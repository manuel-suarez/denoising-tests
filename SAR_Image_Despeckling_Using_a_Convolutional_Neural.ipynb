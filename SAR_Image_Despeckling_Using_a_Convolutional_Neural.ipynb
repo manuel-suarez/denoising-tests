{
  "nbformat": 4,
  "nbformat_minor": 0,
  "metadata": {
    "colab": {
      "name": "SAR Image Despeckling Using a Convolutional Neural",
      "provenance": [],
      "collapsed_sections": [],
      "authorship_tag": "ABX9TyPfxwFQiSzr40eFpLJjvTYS",
      "include_colab_link": true
    },
    "kernelspec": {
      "name": "python3",
      "display_name": "Python 3"
    },
    "language_info": {
      "name": "python"
    },
    "accelerator": "GPU",
    "gpuClass": "standard"
  },
  "cells": [
    {
      "cell_type": "markdown",
      "metadata": {
        "id": "view-in-github",
        "colab_type": "text"
      },
      "source": [
        "<a href=\"https://colab.research.google.com/github/manuel-suarez/denoising-tests/blob/main/SAR_Image_Despeckling_Using_a_Convolutional_Neural.ipynb\" target=\"_parent\"><img src=\"https://colab.research.google.com/assets/colab-badge.svg\" alt=\"Open In Colab\"/></a>"
      ]
    },
    {
      "cell_type": "markdown",
      "source": [
        "# [SAR Image Despeckling Using a Convolutional Neural](https://github.com/TheKiteFlier/SAR-Image-Despeckling-Using-CNN-/blob/main/SAR%20Image%20Despeckling%20Using%20a%20Convolutional.ipynb)"
      ],
      "metadata": {
        "id": "g0uq5zLj_8TU"
      }
    },
    {
      "cell_type": "markdown",
      "source": [
        "## Setup"
      ],
      "metadata": {
        "id": "BLw635iNCvfR"
      }
    },
    {
      "cell_type": "code",
      "execution_count": 1,
      "metadata": {
        "id": "CaRE7auX_0B1"
      },
      "outputs": [],
      "source": [
        "import numpy as np\n",
        "import matplotlib.pyplot as plt\n",
        "import cv2\n",
        "import tensorflow as tf\n",
        "from tensorflow.keras.layers import Input,Conv2D,ReLU,BatchNormalization,LeakyReLU\n",
        "import os\n",
        "from skimage.util import random_noise\n",
        "import sys\n",
        "import time\n",
        "from tqdm.notebook import tqdm\n",
        "import shutil"
      ]
    },
    {
      "cell_type": "code",
      "source": [
        "from google.colab import drive\n",
        "drive.mount('/content/gdrive')"
      ],
      "metadata": {
        "colab": {
          "base_uri": "https://localhost:8080/"
        },
        "id": "IVsaAAXDH_tX",
        "outputId": "eef26e5c-62ef-492c-af9d-471c0ab3c71b"
      },
      "execution_count": 2,
      "outputs": [
        {
          "output_type": "stream",
          "name": "stdout",
          "text": [
            "Mounted at /content/gdrive\n"
          ]
        }
      ]
    },
    {
      "cell_type": "code",
      "source": [
        "# Extramos las imagenes de manera local en el entorno\n",
        "from zipfile import ZipFile\n",
        "\n",
        "gdrive_dir = '/content/gdrive'\n",
        "with ZipFile(os.path.join(gdrive_dir,'MyDrive/DeepLearning/Sentinel 1&2','v_2.zip'), 'r') as zipObj:\n",
        "   # Extract all the contents of zip file in current directory\n",
        "   zipObj.extractall(path='kaggle/sentinel12/v_2')"
      ],
      "metadata": {
        "id": "OLtY85cPAjlX"
      },
      "execution_count": 17,
      "outputs": []
    },
    {
      "cell_type": "code",
      "source": [
        "INPUT_SIZE= (64,64)\n",
        "BS=16\n",
        "ROOT_DIR=\"kaggle/\""
      ],
      "metadata": {
        "id": "DfpMXYMfAFdc"
      },
      "execution_count": 18,
      "outputs": []
    },
    {
      "cell_type": "code",
      "source": [
        "!rm kaggle/DATASET/DATA"
      ],
      "metadata": {
        "id": "pmfsoe6iIqIw"
      },
      "execution_count": 26,
      "outputs": []
    },
    {
      "cell_type": "code",
      "source": [
        "!mkdir kaggle/DATASET/DATA"
      ],
      "metadata": {
        "id": "yF-qd2EjItAj"
      },
      "execution_count": 27,
      "outputs": []
    },
    {
      "cell_type": "code",
      "source": [
        "!mv kaggle/sentinel12/v_2/agri/s2/*.png kaggle/DATASET/DATA/"
      ],
      "metadata": {
        "id": "bS6aU-2tIZBk"
      },
      "execution_count": 28,
      "outputs": []
    },
    {
      "cell_type": "markdown",
      "source": [
        "## Preparing data"
      ],
      "metadata": {
        "id": "-7pCpOfoCt82"
      }
    },
    {
      "cell_type": "code",
      "source": [
        "DATASET=os.path.join(ROOT_DIR,'sentinel12/v_2')\n",
        "DATA_GEN_INPUT=os.path.join(ROOT_DIR,'DATASET')\n",
        "\n",
        "if os.path.exists(DATA_GEN_INPUT):\n",
        "    shutil.rmtree(DATA_GEN_INPUT)\n",
        "os.mkdir(DATA_GEN_INPUT)\n",
        "\n",
        "src=os.path.join(DATASET,\"agri/s2\")\n",
        "dst=os.path.join(DATA_GEN_INPUT,\"DATA\")\n",
        "os.symlink(src,dst)"
      ],
      "metadata": {
        "id": "USxis0l5CsFR"
      },
      "execution_count": 19,
      "outputs": []
    },
    {
      "cell_type": "code",
      "source": [
        "src"
      ],
      "metadata": {
        "colab": {
          "base_uri": "https://localhost:8080/",
          "height": 36
        },
        "id": "CZ01YoBkExPR",
        "outputId": "6afbf240-ed5b-4bde-f85a-e2d76b103733"
      },
      "execution_count": 22,
      "outputs": [
        {
          "output_type": "execute_result",
          "data": {
            "text/plain": [
              "'kaggle/sentinel12/v_2/agri/s2'"
            ],
            "application/vnd.google.colaboratory.intrinsic+json": {
              "type": "string"
            }
          },
          "metadata": {},
          "execution_count": 22
        }
      ]
    },
    {
      "cell_type": "code",
      "source": [
        "def preprocessing_function(img):\n",
        "    return np.float32(img/127.5-1)"
      ],
      "metadata": {
        "id": "TzJ1dFZHEJ6Q"
      },
      "execution_count": 20,
      "outputs": []
    },
    {
      "cell_type": "code",
      "source": [
        "generator=tf.keras.preprocessing.image.ImageDataGenerator(preprocessing_function=preprocessing_function)\n",
        "train_generator=generator.flow_from_directory(DATA_GEN_INPUT,\n",
        "                                              target_size=INPUT_SIZE,\n",
        "                                              class_mode=None,\n",
        "                                              color_mode='grayscale',\n",
        "                                              batch_size=BS,\n",
        "                                              follow_links=True,)"
      ],
      "metadata": {
        "colab": {
          "base_uri": "https://localhost:8080/"
        },
        "id": "8ncPJQiSEKN7",
        "outputId": "c70843e6-3dc6-40c6-89e2-171e863862a6"
      },
      "execution_count": 29,
      "outputs": [
        {
          "output_type": "stream",
          "name": "stdout",
          "text": [
            "Found 4000 images belonging to 1 classes.\n"
          ]
        }
      ]
    },
    {
      "cell_type": "code",
      "source": [
        "img = next(train_generator)\n",
        "print(img.shape)"
      ],
      "metadata": {
        "colab": {
          "base_uri": "https://localhost:8080/"
        },
        "id": "Zsjjxmp4I9eV",
        "outputId": "16d63954-1ddb-48cb-ef04-c0aff68714d2"
      },
      "execution_count": 31,
      "outputs": [
        {
          "output_type": "stream",
          "name": "stdout",
          "text": [
            "(16, 64, 64, 1)\n"
          ]
        }
      ]
    },
    {
      "cell_type": "code",
      "source": [
        "plt.figure(figsize=(5,5))\n",
        "plt.imshow(img[0,:,:,0],cmap='gray')\n",
        "plt.colorbar()"
      ],
      "metadata": {
        "colab": {
          "base_uri": "https://localhost:8080/",
          "height": 330
        },
        "id": "UNT5jcyOELjC",
        "outputId": "88dc6983-a611-40f0-8bdc-555809100907"
      },
      "execution_count": 35,
      "outputs": [
        {
          "output_type": "execute_result",
          "data": {
            "text/plain": [
              "<matplotlib.colorbar.Colorbar at 0x7fb8471a3b90>"
            ]
          },
          "metadata": {},
          "execution_count": 35
        },
        {
          "output_type": "display_data",
          "data": {
            "text/plain": [
              "<Figure size 360x360 with 2 Axes>"
            ],
            "image/png": "[encoded data removed]"
          },
          "metadata": {
            "needs_background": "light"
          }
        }
      ]
    },
    {
      "cell_type": "markdown",
      "source": [
        "## Testing model"
      ],
      "metadata": {
        "id": "b6YNYBxnJRxT"
      }
    },
    {
      "cell_type": "code",
      "source": [
        "def test_model(data_generator):\n",
        "    img1,img2=next(data_generator)[:2]\n",
        "    noise_var=np.random.rand()*.25\n",
        "    # noise_var=.3\n",
        "    noisy_img1=random_noise(img1,mode='speckle',var=noise_var,clip=True)\n",
        "    noisy_img2=random_noise(img2,mode='speckle',var=noise_var,clip=True)\n",
        "    noisy_img1=np.expand_dims(noisy_img1,axis=[0,-1])\n",
        "    noisy_img2=np.expand_dims(noisy_img2,axis=[0,-1])\n",
        "    denoised_img1=model.predict(noisy_img1)\n",
        "    denoised_img2=model.predict(noisy_img2)\n",
        "    fig,ax=plt.subplots(3,2,figsize=(10,12))\n",
        "    mapple=ax[0,0].imshow(img1)\n",
        "    plt.colorbar(mapple,ax=ax[0,0])\n",
        "    mapple=ax[0,1].imshow(img2)\n",
        "    plt.colorbar(mapple,ax=ax[0,1])\n",
        "    mapple=ax[1,0].imshow(noisy_img1[0].reshape(INPUT_SIZE))\n",
        "    plt.colorbar(mapple,ax=ax[1,0])\n",
        "    mapple=ax[1,1].imshow(noisy_img2[0].reshape(INPUT_SIZE))\n",
        "    plt.colorbar(mapple,ax=ax[1,1])\n",
        "    mapple=ax[2,0].imshow(denoised_img1[0].reshape(INPUT_SIZE))\n",
        "    plt.colorbar(mapple,ax=ax[2,0])\n",
        "    mapple=ax[2,1].imshow(denoised_img2[0].reshape(INPUT_SIZE))\n",
        "    plt.colorbar(mapple,ax=ax[2,1])\n",
        "    plt.show()"
      ],
      "metadata": {
        "id": "Df0kz7lRIzZZ"
      },
      "execution_count": 36,
      "outputs": []
    },
    {
      "cell_type": "markdown",
      "source": [
        "## Model definition"
      ],
      "metadata": {
        "id": "JKABWstuJVcK"
      }
    },
    {
      "cell_type": "code",
      "source": [
        "def create_model(input_shape=(256,256,1)):\n",
        "    input_layer=Input(shape=input_shape)\n",
        "    x=Conv2D(filters=64,kernel_size=(3,3),padding='same')(input_layer)\n",
        "    x=LeakyReLU(.2)(x)\n",
        "#   Here I'm using dialation in convolution layers but in the original paper There are NO dialation used\n",
        "    for i in range(1,5):\n",
        "        x=Conv2D(filters=64,kernel_size=(3,3),dilation_rate=i,padding='same',)(x)\n",
        "        x=BatchNormalization()(x)\n",
        "        x=LeakyReLU(.2)(x)\n",
        "    for i in range(4,0,-1):\n",
        "        x=Conv2D(filters=64,kernel_size=(3,3),dilation_rate=i,padding='same')(x)\n",
        "        x=BatchNormalization()(x)\n",
        "        x=ReLU()(x)\n",
        "    x=Conv2D(filters=1,kernel_size=(3,3),padding='same')(x)\n",
        "    x=ReLU()(x) \n",
        "    x= tf.keras.layers.Lambda(lambda x:x+tf.constant(1e-7))(x)\n",
        "    x=tf.math.divide(input_layer,x)\n",
        "\n",
        "    x=tf.math.tanh(x)"
      ],
      "metadata": {
        "id": "W4ZCE2ruJTFQ"
      },
      "execution_count": 37,
      "outputs": []
    },
    {
      "cell_type": "code",
      "source": [
        ""
      ],
      "metadata": {
        "id": "d4tA42h5JWkE"
      },
      "execution_count": null,
      "outputs": []
    }
  ]
}