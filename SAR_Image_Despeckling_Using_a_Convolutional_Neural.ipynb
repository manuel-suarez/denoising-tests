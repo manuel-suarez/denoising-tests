{
  "nbformat": 4,
  "nbformat_minor": 0,
  "metadata": {
    "colab": {
      "name": "SAR Image Despeckling Using a Convolutional Neural",
      "provenance": [],
      "authorship_tag": "ABX9TyNeCe17X3YNcORZPpNkjrWU",
      "include_colab_link": true
    },
    "kernelspec": {
      "name": "python3",
      "display_name": "Python 3"
    },
    "language_info": {
      "name": "python"
    },
    "accelerator": "GPU",
    "gpuClass": "standard"
  },
  "cells": [
    {
      "cell_type": "markdown",
      "metadata": {
        "id": "view-in-github",
        "colab_type": "text"
      },
      "source": [
        "<a href=\"https://colab.research.google.com/github/manuel-suarez/denoising-tests/blob/main/SAR_Image_Despeckling_Using_a_Convolutional_Neural.ipynb\" target=\"_parent\"><img src=\"https://colab.research.google.com/assets/colab-badge.svg\" alt=\"Open In Colab\"/></a>"
      ]
    },
    {
      "cell_type": "markdown",
      "source": [
        "# [SAR Image Despeckling Using a Convolutional Neural](https://github.com/TheKiteFlier/SAR-Image-Despeckling-Using-CNN-/blob/main/SAR%20Image%20Despeckling%20Using%20a%20Convolutional.ipynb)"
      ],
      "metadata": {
        "id": "g0uq5zLj_8TU"
      }
    },
    {
      "cell_type": "markdown",
      "source": [
        "## Setup"
      ],
      "metadata": {
        "id": "BLw635iNCvfR"
      }
    },
    {
      "cell_type": "code",
      "execution_count": 1,
      "metadata": {
        "id": "CaRE7auX_0B1"
      },
      "outputs": [],
      "source": [
        "import numpy as np\n",
        "import matplotlib.pyplot as plt\n",
        "import cv2\n",
        "import tensorflow as tf\n",
        "from tensorflow.keras.layers import Input,Conv2D,ReLU,BatchNormalization,LeakyReLU\n",
        "import os\n",
        "from skimage.util import random_noise\n",
        "import sys\n",
        "import time\n",
        "from tqdm.notebook import tqdm\n",
        "import shutil"
      ]
    },
    {
      "cell_type": "code",
      "source": [
        "from google.colab import drive\n",
        "drive.mount('/content/gdrive')"
      ],
      "metadata": {
        "colab": {
          "base_uri": "https://localhost:8080/"
        },
        "id": "IVsaAAXDH_tX",
        "outputId": "eef26e5c-62ef-492c-af9d-471c0ab3c71b"
      },
      "execution_count": 2,
      "outputs": [
        {
          "output_type": "stream",
          "name": "stdout",
          "text": [
            "Mounted at /content/gdrive\n"
          ]
        }
      ]
    },
    {
      "cell_type": "code",
      "source": [
        "# Extramos las imagenes de manera local en el entorno\n",
        "from zipfile import ZipFile\n",
        "\n",
        "gdrive_dir = '/content/gdrive'\n",
        "with ZipFile(os.path.join(gdrive_dir,'MyDrive/DeepLearning/Sentinel 1&2','v_2.zip'), 'r') as zipObj:\n",
        "   # Extract all the contents of zip file in current directory\n",
        "   zipObj.extractall(path='kaggle')"
      ],
      "metadata": {
        "id": "OLtY85cPAjlX"
      },
      "execution_count": 3,
      "outputs": []
    },
    {
      "cell_type": "code",
      "source": [
        "INPUT_SIZE= (64,64)\n",
        "BS=16\n",
        "ROOT_DIR=\"/kaggle/\""
      ],
      "metadata": {
        "id": "DfpMXYMfAFdc"
      },
      "execution_count": null,
      "outputs": []
    },
    {
      "cell_type": "markdown",
      "source": [
        "## Preparing data"
      ],
      "metadata": {
        "id": "-7pCpOfoCt82"
      }
    },
    {
      "cell_type": "code",
      "source": [
        "DATASET=os.path.join(ROOT_DIR,'input/sentinel12-image-pairs-segregated-by-terrain/v_2')\n",
        "DATA_GEN_INPUT=os.path.join(ROOT_DIR,'DATASET')\n",
        "\n",
        "if os.path.exists(DATA_GEN_INPUT):\n",
        "    shutil.rmtree(DATA_GEN_INPUT)\n",
        "os.mkdir(DATA_GEN_INPUT)\n",
        "\n",
        "src=os.path.join(DATASET,\"agri/s2\")\n",
        "dst=os.path.join(DATA_GEN_INPUT,\"DATA\")\n",
        "os.symlink(src,dst)"
      ],
      "metadata": {
        "id": "USxis0l5CsFR"
      },
      "execution_count": null,
      "outputs": []
    }
  ]
}