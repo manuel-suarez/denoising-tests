{
  "nbformat": 4,
  "nbformat_minor": 0,
  "metadata": {
    "colab": {
      "name": "SAR Image Despeckling Using a Convolutional Neural",
      "provenance": [],
      "collapsed_sections": [],
      "authorship_tag": "ABX9TyPPgp2TXa7UMbVcc8WOf+qQ",
      "include_colab_link": true
    },
    "kernelspec": {
      "name": "python3",
      "display_name": "Python 3"
    },
    "language_info": {
      "name": "python"
    },
    "accelerator": "GPU",
    "gpuClass": "standard"
  },
  "cells": [
    {
      "cell_type": "markdown",
      "metadata": {
        "id": "view-in-github",
        "colab_type": "text"
      },
      "source": [
        "<a href=\"https://colab.research.google.com/github/manuel-suarez/denoising-tests/blob/main/SAR_Image_Despeckling_Using_a_Convolutional_Neural.ipynb\" target=\"_parent\"><img src=\"https://colab.research.google.com/assets/colab-badge.svg\" alt=\"Open In Colab\"/></a>"
      ]
    },
    {
      "cell_type": "markdown",
      "source": [
        "# [SAR Image Despeckling Using a Convolutional Neural](https://github.com/TheKiteFlier/SAR-Image-Despeckling-Using-CNN-/blob/main/SAR%20Image%20Despeckling%20Using%20a%20Convolutional.ipynb)"
      ],
      "metadata": {
        "id": "g0uq5zLj_8TU"
      }
    },
    {
      "cell_type": "markdown",
      "source": [
        "## Setup"
      ],
      "metadata": {
        "id": "BLw635iNCvfR"
      }
    },
    {
      "cell_type": "code",
      "execution_count": 1,
      "metadata": {
        "id": "CaRE7auX_0B1"
      },
      "outputs": [],
      "source": [
        "import numpy as np\n",
        "import matplotlib.pyplot as plt\n",
        "import cv2\n",
        "import tensorflow as tf\n",
        "from tensorflow.keras.layers import Input,Conv2D,ReLU,BatchNormalization,LeakyReLU\n",
        "import os\n",
        "from skimage.util import random_noise\n",
        "import sys\n",
        "import time\n",
        "from tqdm.notebook import tqdm\n",
        "import shutil"
      ]
    },
    {
      "cell_type": "code",
      "source": [
        "from google.colab import drive\n",
        "drive.mount('/content/gdrive')"
      ],
      "metadata": {
        "colab": {
          "base_uri": "https://localhost:8080/"
        },
        "id": "IVsaAAXDH_tX",
        "outputId": "eef26e5c-62ef-492c-af9d-471c0ab3c71b"
      },
      "execution_count": 2,
      "outputs": [
        {
          "output_type": "stream",
          "name": "stdout",
          "text": [
            "Mounted at /content/gdrive\n"
          ]
        }
      ]
    },
    {
      "cell_type": "code",
      "source": [
        "# Extramos las imagenes de manera local en el entorno\n",
        "from zipfile import ZipFile\n",
        "\n",
        "gdrive_dir = '/content/gdrive'\n",
        "with ZipFile(os.path.join(gdrive_dir,'MyDrive/DeepLearning/Sentinel 1&2','v_2.zip'), 'r') as zipObj:\n",
        "   # Extract all the contents of zip file in current directory\n",
        "   zipObj.extractall(path='kaggle/sentinel12/v_2')"
      ],
      "metadata": {
        "id": "OLtY85cPAjlX"
      },
      "execution_count": 17,
      "outputs": []
    },
    {
      "cell_type": "code",
      "source": [
        "INPUT_SIZE= (64,64)\n",
        "BS=16\n",
        "ROOT_DIR=\"kaggle/\""
      ],
      "metadata": {
        "id": "DfpMXYMfAFdc"
      },
      "execution_count": 18,
      "outputs": []
    },
    {
      "cell_type": "code",
      "source": [
        "!rm kaggle/DATASET/DATA"
      ],
      "metadata": {
        "id": "pmfsoe6iIqIw"
      },
      "execution_count": 26,
      "outputs": []
    },
    {
      "cell_type": "code",
      "source": [
        "!mkdir kaggle/DATASET/DATA"
      ],
      "metadata": {
        "id": "yF-qd2EjItAj"
      },
      "execution_count": 27,
      "outputs": []
    },
    {
      "cell_type": "code",
      "source": [
        "!mv kaggle/sentinel12/v_2/agri/s2/*.png kaggle/DATASET/DATA/"
      ],
      "metadata": {
        "id": "bS6aU-2tIZBk"
      },
      "execution_count": 28,
      "outputs": []
    },
    {
      "cell_type": "markdown",
      "source": [
        "## Preparing data"
      ],
      "metadata": {
        "id": "-7pCpOfoCt82"
      }
    },
    {
      "cell_type": "code",
      "source": [
        "DATASET=os.path.join(ROOT_DIR,'sentinel12/v_2')\n",
        "DATA_GEN_INPUT=os.path.join(ROOT_DIR,'DATASET')\n",
        "\n",
        "if os.path.exists(DATA_GEN_INPUT):\n",
        "    shutil.rmtree(DATA_GEN_INPUT)\n",
        "os.mkdir(DATA_GEN_INPUT)\n",
        "\n",
        "src=os.path.join(DATASET,\"agri/s2\")\n",
        "dst=os.path.join(DATA_GEN_INPUT,\"DATA\")\n",
        "os.symlink(src,dst)"
      ],
      "metadata": {
        "id": "USxis0l5CsFR"
      },
      "execution_count": 19,
      "outputs": []
    },
    {
      "cell_type": "code",
      "source": [
        "src"
      ],
      "metadata": {
        "colab": {
          "base_uri": "https://localhost:8080/",
          "height": 36
        },
        "id": "CZ01YoBkExPR",
        "outputId": "6afbf240-ed5b-4bde-f85a-e2d76b103733"
      },
      "execution_count": 22,
      "outputs": [
        {
          "output_type": "execute_result",
          "data": {
            "text/plain": [
              "'kaggle/sentinel12/v_2/agri/s2'"
            ],
            "application/vnd.google.colaboratory.intrinsic+json": {
              "type": "string"
            }
          },
          "metadata": {},
          "execution_count": 22
        }
      ]
    },
    {
      "cell_type": "code",
      "source": [
        "def preprocessing_function(img):\n",
        "    return np.float32(img/127.5-1)"
      ],
      "metadata": {
        "id": "TzJ1dFZHEJ6Q"
      },
      "execution_count": 20,
      "outputs": []
    },
    {
      "cell_type": "code",
      "source": [
        "generator=tf.keras.preprocessing.image.ImageDataGenerator(preprocessing_function=preprocessing_function)\n",
        "train_generator=generator.flow_from_directory(DATA_GEN_INPUT,\n",
        "                                              target_size=INPUT_SIZE,\n",
        "                                              class_mode=None,\n",
        "                                              color_mode='grayscale',\n",
        "                                              batch_size=BS,\n",
        "                                              follow_links=True,)"
      ],
      "metadata": {
        "colab": {
          "base_uri": "https://localhost:8080/"
        },
        "id": "8ncPJQiSEKN7",
        "outputId": "c70843e6-3dc6-40c6-89e2-171e863862a6"
      },
      "execution_count": 29,
      "outputs": [
        {
          "output_type": "stream",
          "name": "stdout",
          "text": [
            "Found 4000 images belonging to 1 classes.\n"
          ]
        }
      ]
    },
    {
      "cell_type": "code",
      "source": [
        "img = next(train_generator)\n",
        "print(img.shape)"
      ],
      "metadata": {
        "colab": {
          "base_uri": "https://localhost:8080/"
        },
        "id": "Zsjjxmp4I9eV",
        "outputId": "16d63954-1ddb-48cb-ef04-c0aff68714d2"
      },
      "execution_count": 31,
      "outputs": [
        {
          "output_type": "stream",
          "name": "stdout",
          "text": [
            "(16, 64, 64, 1)\n"
          ]
        }
      ]
    },
    {
      "cell_type": "code",
      "source": [
        "plt.figure(figsize=(5,5))\n",
        "plt.imshow(img[0,:,:,0],cmap='gray')\n",
        "plt.colorbar()"
      ],
      "metadata": {
        "colab": {
          "base_uri": "https://localhost:8080/",
          "height": 330
        },
        "id": "UNT5jcyOELjC",
        "outputId": "88dc6983-a611-40f0-8bdc-555809100907"
      },
      "execution_count": 35,
      "outputs": [
        {
          "output_type": "execute_result",
          "data": {
            "text/plain": [
              "<matplotlib.colorbar.Colorbar at 0x7fb8471a3b90>"
            ]
          },
          "metadata": {},
          "execution_count": 35
        },
        {
          "output_type": "display_data",
          "data": {
            "text/plain": [
              "<Figure size 360x360 with 2 Axes>"
            ],
            "image/png": "[encoded data removed]"
          },
          "metadata": {
            "needs_background": "light"
          }
        }
      ]
    },
    {
      "cell_type": "markdown",
      "source": [
        "## Testing model"
      ],
      "metadata": {
        "id": "b6YNYBxnJRxT"
      }
    },
    {
      "cell_type": "code",
      "source": [
        "def test_model(data_generator):\n",
        "    img1,img2=next(data_generator)[:2]\n",
        "    noise_var=np.random.rand()*.25\n",
        "    # noise_var=.3\n",
        "    noisy_img1=random_noise(img1,mode='speckle',var=noise_var,clip=True)\n",
        "    noisy_img2=random_noise(img2,mode='speckle',var=noise_var,clip=True)\n",
        "    noisy_img1=np.expand_dims(noisy_img1,axis=[0,-1])\n",
        "    noisy_img2=np.expand_dims(noisy_img2,axis=[0,-1])\n",
        "    denoised_img1=model.predict(noisy_img1)\n",
        "    denoised_img2=model.predict(noisy_img2)\n",
        "    fig,ax=plt.subplots(3,2,figsize=(10,12))\n",
        "    mapple=ax[0,0].imshow(img1)\n",
        "    plt.colorbar(mapple,ax=ax[0,0])\n",
        "    mapple=ax[0,1].imshow(img2)\n",
        "    plt.colorbar(mapple,ax=ax[0,1])\n",
        "    mapple=ax[1,0].imshow(noisy_img1[0].reshape(INPUT_SIZE))\n",
        "    plt.colorbar(mapple,ax=ax[1,0])\n",
        "    mapple=ax[1,1].imshow(noisy_img2[0].reshape(INPUT_SIZE))\n",
        "    plt.colorbar(mapple,ax=ax[1,1])\n",
        "    mapple=ax[2,0].imshow(denoised_img1[0].reshape(INPUT_SIZE))\n",
        "    plt.colorbar(mapple,ax=ax[2,0])\n",
        "    mapple=ax[2,1].imshow(denoised_img2[0].reshape(INPUT_SIZE))\n",
        "    plt.colorbar(mapple,ax=ax[2,1])\n",
        "    plt.show()"
      ],
      "metadata": {
        "id": "Df0kz7lRIzZZ"
      },
      "execution_count": 36,
      "outputs": []
    },
    {
      "cell_type": "markdown",
      "source": [
        "## Model definition"
      ],
      "metadata": {
        "id": "JKABWstuJVcK"
      }
    },
    {
      "cell_type": "code",
      "source": [
        "def create_model(input_shape=(256,256,1)):\n",
        "    input_layer=Input(shape=input_shape)\n",
        "    x=Conv2D(filters=64,kernel_size=(3,3),padding='same')(input_layer)\n",
        "    x=LeakyReLU(.2)(x)\n",
        "#   Here I'm using dialation in convolution layers but in the original paper There are NO dialation used\n",
        "    for i in range(1,5):\n",
        "        x=Conv2D(filters=64,kernel_size=(3,3),dilation_rate=i,padding='same',)(x)\n",
        "        x=BatchNormalization()(x)\n",
        "        x=LeakyReLU(.2)(x)\n",
        "    for i in range(4,0,-1):\n",
        "        x=Conv2D(filters=64,kernel_size=(3,3),dilation_rate=i,padding='same')(x)\n",
        "        x=BatchNormalization()(x)\n",
        "        x=ReLU()(x)\n",
        "    x=Conv2D(filters=1,kernel_size=(3,3),padding='same')(x)\n",
        "    x=ReLU()(x) \n",
        "    x= tf.keras.layers.Lambda(lambda x:x+tf.constant(1e-7))(x)\n",
        "    x=tf.math.divide(input_layer,x)\n",
        "\n",
        "    x=tf.math.tanh(x)\n",
        "    return tf.keras.Model(inputs=input_layer,outputs=x)"
      ],
      "metadata": {
        "id": "W4ZCE2ruJTFQ"
      },
      "execution_count": 38,
      "outputs": []
    },
    {
      "cell_type": "markdown",
      "source": [
        "### Loss function"
      ],
      "metadata": {
        "id": "awFSDb0BJfOh"
      }
    },
    {
      "cell_type": "code",
      "source": [
        "MSE=tf.keras.losses.MeanSquaredError(reduction='none')\n",
        "def loss_fn(y_true,y_pred,l_tv=.0002):\n",
        "    mse=tf.reduce_sum(MSE(y_true,y_pred))\n",
        "    variational_loss=tf.image.total_variation(y_pred)\n",
        "    weight_loss = tf.reduce_sum(tf.math.abs(tf.math.divide(1,y_pred+1e-5)))\n",
        "    total_loss=mse+l_tv*variational_loss\n",
        "    return tf.reduce_mean(total_loss),tf.reduce_mean(mse),tf.reduce_mean(variational_loss)"
      ],
      "metadata": {
        "id": "IIv4BcXmJdRe"
      },
      "execution_count": 39,
      "outputs": []
    },
    {
      "cell_type": "markdown",
      "source": [
        "## Training"
      ],
      "metadata": {
        "id": "mr-T3dDyJjgt"
      }
    },
    {
      "cell_type": "code",
      "source": [
        "@tf.function\n",
        "def step(noisy_data, clean_data):\n",
        "    with tf.GradientTape() as tape:\n",
        "        pred = model(noisy_data,training=True) \n",
        "        total_loss,loss_euclidian,loss_tv = loss_fn(clean_data, pred)\n",
        "        loss=tf.add_n([total_loss],model.losses)\n",
        "    grads = tape.gradient(total_loss, model.trainable_weights)\n",
        "    opt.apply_gradients(zip(grads, model.trainable_weights))\n",
        "    return loss,loss_euclidian,loss_tv"
      ],
      "metadata": {
        "id": "d4tA42h5JWkE"
      },
      "execution_count": 40,
      "outputs": []
    },
    {
      "cell_type": "code",
      "source": [
        "model=create_model(list(INPUT_SIZE)+[1])"
      ],
      "metadata": {
        "id": "cxyProzAJkYL"
      },
      "execution_count": 41,
      "outputs": []
    },
    {
      "cell_type": "code",
      "source": [
        "test_model(train_generator)"
      ],
      "metadata": {
        "colab": {
          "base_uri": "https://localhost:8080/",
          "height": 998
        },
        "id": "oWzhb2vRJllj",
        "outputId": "589e17eb-4350-4aeb-8893-71958cea49f3"
      },
      "execution_count": 42,
      "outputs": [
        {
          "output_type": "error",
          "ename": "TypeError",
          "evalue": "ignored",
          "traceback": [
            "\u001b[0;31m---------------------------------------------------------------------------\u001b[0m",
            "\u001b[0;31mTypeError\u001b[0m                                 Traceback (most recent call last)",
            "\u001b[0;32m<ipython-input-42-0eefe72aab02>\u001b[0m in \u001b[0;36m<module>\u001b[0;34m\u001b[0m\n\u001b[0;32m----> 1\u001b[0;31m \u001b[0mtest_model\u001b[0m\u001b[0;34m(\u001b[0m\u001b[0mtrain_generator\u001b[0m\u001b[0;34m)\u001b[0m\u001b[0;34m\u001b[0m\u001b[0;34m\u001b[0m\u001b[0m\n\u001b[0m",
            "\u001b[0;32m<ipython-input-36-4a845d2c98e4>\u001b[0m in \u001b[0;36mtest_model\u001b[0;34m(data_generator)\u001b[0m\n\u001b[1;32m     10\u001b[0m     \u001b[0mdenoised_img2\u001b[0m\u001b[0;34m=\u001b[0m\u001b[0mmodel\u001b[0m\u001b[0;34m.\u001b[0m\u001b[0mpredict\u001b[0m\u001b[0;34m(\u001b[0m\u001b[0mnoisy_img2\u001b[0m\u001b[0;34m)\u001b[0m\u001b[0;34m\u001b[0m\u001b[0;34m\u001b[0m\u001b[0m\n\u001b[1;32m     11\u001b[0m     \u001b[0mfig\u001b[0m\u001b[0;34m,\u001b[0m\u001b[0max\u001b[0m\u001b[0;34m=\u001b[0m\u001b[0mplt\u001b[0m\u001b[0;34m.\u001b[0m\u001b[0msubplots\u001b[0m\u001b[0;34m(\u001b[0m\u001b[0;36m3\u001b[0m\u001b[0;34m,\u001b[0m\u001b[0;36m2\u001b[0m\u001b[0;34m,\u001b[0m\u001b[0mfigsize\u001b[0m\u001b[0;34m=\u001b[0m\u001b[0;34m(\u001b[0m\u001b[0;36m10\u001b[0m\u001b[0;34m,\u001b[0m\u001b[0;36m12\u001b[0m\u001b[0;34m)\u001b[0m\u001b[0;34m)\u001b[0m\u001b[0;34m\u001b[0m\u001b[0;34m\u001b[0m\u001b[0m\n\u001b[0;32m---> 12\u001b[0;31m     \u001b[0mmapple\u001b[0m\u001b[0;34m=\u001b[0m\u001b[0max\u001b[0m\u001b[0;34m[\u001b[0m\u001b[0;36m0\u001b[0m\u001b[0;34m,\u001b[0m\u001b[0;36m0\u001b[0m\u001b[0;34m]\u001b[0m\u001b[0;34m.\u001b[0m\u001b[0mimshow\u001b[0m\u001b[0;34m(\u001b[0m\u001b[0mimg1\u001b[0m\u001b[0;34m)\u001b[0m\u001b[0;34m\u001b[0m\u001b[0;34m\u001b[0m\u001b[0m\n\u001b[0m\u001b[1;32m     13\u001b[0m     \u001b[0mplt\u001b[0m\u001b[0;34m.\u001b[0m\u001b[0mcolorbar\u001b[0m\u001b[0;34m(\u001b[0m\u001b[0mmapple\u001b[0m\u001b[0;34m,\u001b[0m\u001b[0max\u001b[0m\u001b[0;34m=\u001b[0m\u001b[0max\u001b[0m\u001b[0;34m[\u001b[0m\u001b[0;36m0\u001b[0m\u001b[0;34m,\u001b[0m\u001b[0;36m0\u001b[0m\u001b[0;34m]\u001b[0m\u001b[0;34m)\u001b[0m\u001b[0;34m\u001b[0m\u001b[0;34m\u001b[0m\u001b[0m\n\u001b[1;32m     14\u001b[0m     \u001b[0mmapple\u001b[0m\u001b[0;34m=\u001b[0m\u001b[0max\u001b[0m\u001b[0;34m[\u001b[0m\u001b[0;36m0\u001b[0m\u001b[0;34m,\u001b[0m\u001b[0;36m1\u001b[0m\u001b[0;34m]\u001b[0m\u001b[0;34m.\u001b[0m\u001b[0mimshow\u001b[0m\u001b[0;34m(\u001b[0m\u001b[0mimg2\u001b[0m\u001b[0;34m)\u001b[0m\u001b[0;34m\u001b[0m\u001b[0;34m\u001b[0m\u001b[0m\n",
            "\u001b[0;32m/usr/local/lib/python3.7/dist-packages/matplotlib/__init__.py\u001b[0m in \u001b[0;36minner\u001b[0;34m(ax, data, *args, **kwargs)\u001b[0m\n\u001b[1;32m   1563\u001b[0m     \u001b[0;32mdef\u001b[0m \u001b[0minner\u001b[0m\u001b[0;34m(\u001b[0m\u001b[0max\u001b[0m\u001b[0;34m,\u001b[0m \u001b[0;34m*\u001b[0m\u001b[0margs\u001b[0m\u001b[0;34m,\u001b[0m \u001b[0mdata\u001b[0m\u001b[0;34m=\u001b[0m\u001b[0;32mNone\u001b[0m\u001b[0;34m,\u001b[0m \u001b[0;34m**\u001b[0m\u001b[0mkwargs\u001b[0m\u001b[0;34m)\u001b[0m\u001b[0;34m:\u001b[0m\u001b[0;34m\u001b[0m\u001b[0;34m\u001b[0m\u001b[0m\n\u001b[1;32m   1564\u001b[0m         \u001b[0;32mif\u001b[0m \u001b[0mdata\u001b[0m \u001b[0;32mis\u001b[0m \u001b[0;32mNone\u001b[0m\u001b[0;34m:\u001b[0m\u001b[0;34m\u001b[0m\u001b[0;34m\u001b[0m\u001b[0m\n\u001b[0;32m-> 1565\u001b[0;31m             \u001b[0;32mreturn\u001b[0m \u001b[0mfunc\u001b[0m\u001b[0;34m(\u001b[0m\u001b[0max\u001b[0m\u001b[0;34m,\u001b[0m \u001b[0;34m*\u001b[0m\u001b[0mmap\u001b[0m\u001b[0;34m(\u001b[0m\u001b[0msanitize_sequence\u001b[0m\u001b[0;34m,\u001b[0m \u001b[0margs\u001b[0m\u001b[0;34m)\u001b[0m\u001b[0;34m,\u001b[0m \u001b[0;34m**\u001b[0m\u001b[0mkwargs\u001b[0m\u001b[0;34m)\u001b[0m\u001b[0;34m\u001b[0m\u001b[0;34m\u001b[0m\u001b[0m\n\u001b[0m\u001b[1;32m   1566\u001b[0m \u001b[0;34m\u001b[0m\u001b[0m\n\u001b[1;32m   1567\u001b[0m         \u001b[0mbound\u001b[0m \u001b[0;34m=\u001b[0m \u001b[0mnew_sig\u001b[0m\u001b[0;34m.\u001b[0m\u001b[0mbind\u001b[0m\u001b[0;34m(\u001b[0m\u001b[0max\u001b[0m\u001b[0;34m,\u001b[0m \u001b[0;34m*\u001b[0m\u001b[0margs\u001b[0m\u001b[0;34m,\u001b[0m \u001b[0;34m**\u001b[0m\u001b[0mkwargs\u001b[0m\u001b[0;34m)\u001b[0m\u001b[0;34m\u001b[0m\u001b[0;34m\u001b[0m\u001b[0m\n",
            "\u001b[0;32m/usr/local/lib/python3.7/dist-packages/matplotlib/cbook/deprecation.py\u001b[0m in \u001b[0;36mwrapper\u001b[0;34m(*args, **kwargs)\u001b[0m\n\u001b[1;32m    356\u001b[0m                 \u001b[0;34mf\"%(removal)s.  If any parameter follows {name!r}, they \"\u001b[0m\u001b[0;34m\u001b[0m\u001b[0;34m\u001b[0m\u001b[0m\n\u001b[1;32m    357\u001b[0m                 f\"should be pass as keyword, not positionally.\")\n\u001b[0;32m--> 358\u001b[0;31m         \u001b[0;32mreturn\u001b[0m \u001b[0mfunc\u001b[0m\u001b[0;34m(\u001b[0m\u001b[0;34m*\u001b[0m\u001b[0margs\u001b[0m\u001b[0;34m,\u001b[0m \u001b[0;34m**\u001b[0m\u001b[0mkwargs\u001b[0m\u001b[0;34m)\u001b[0m\u001b[0;34m\u001b[0m\u001b[0;34m\u001b[0m\u001b[0m\n\u001b[0m\u001b[1;32m    359\u001b[0m \u001b[0;34m\u001b[0m\u001b[0m\n\u001b[1;32m    360\u001b[0m     \u001b[0;32mreturn\u001b[0m \u001b[0mwrapper\u001b[0m\u001b[0;34m\u001b[0m\u001b[0;34m\u001b[0m\u001b[0m\n",
            "\u001b[0;32m/usr/local/lib/python3.7/dist-packages/matplotlib/cbook/deprecation.py\u001b[0m in \u001b[0;36mwrapper\u001b[0;34m(*args, **kwargs)\u001b[0m\n\u001b[1;32m    356\u001b[0m                 \u001b[0;34mf\"%(removal)s.  If any parameter follows {name!r}, they \"\u001b[0m\u001b[0;34m\u001b[0m\u001b[0;34m\u001b[0m\u001b[0m\n\u001b[1;32m    357\u001b[0m                 f\"should be pass as keyword, not positionally.\")\n\u001b[0;32m--> 358\u001b[0;31m         \u001b[0;32mreturn\u001b[0m \u001b[0mfunc\u001b[0m\u001b[0;34m(\u001b[0m\u001b[0;34m*\u001b[0m\u001b[0margs\u001b[0m\u001b[0;34m,\u001b[0m \u001b[0;34m**\u001b[0m\u001b[0mkwargs\u001b[0m\u001b[0;34m)\u001b[0m\u001b[0;34m\u001b[0m\u001b[0;34m\u001b[0m\u001b[0m\n\u001b[0m\u001b[1;32m    359\u001b[0m \u001b[0;34m\u001b[0m\u001b[0m\n\u001b[1;32m    360\u001b[0m     \u001b[0;32mreturn\u001b[0m \u001b[0mwrapper\u001b[0m\u001b[0;34m\u001b[0m\u001b[0;34m\u001b[0m\u001b[0m\n",
            "\u001b[0;32m/usr/local/lib/python3.7/dist-packages/matplotlib/axes/_axes.py\u001b[0m in \u001b[0;36mimshow\u001b[0;34m(self, X, cmap, norm, aspect, interpolation, alpha, vmin, vmax, origin, extent, shape, filternorm, filterrad, imlim, resample, url, **kwargs)\u001b[0m\n\u001b[1;32m   5624\u001b[0m                               resample=resample, **kwargs)\n\u001b[1;32m   5625\u001b[0m \u001b[0;34m\u001b[0m\u001b[0m\n\u001b[0;32m-> 5626\u001b[0;31m         \u001b[0mim\u001b[0m\u001b[0;34m.\u001b[0m\u001b[0mset_data\u001b[0m\u001b[0;34m(\u001b[0m\u001b[0mX\u001b[0m\u001b[0;34m)\u001b[0m\u001b[0;34m\u001b[0m\u001b[0;34m\u001b[0m\u001b[0m\n\u001b[0m\u001b[1;32m   5627\u001b[0m         \u001b[0mim\u001b[0m\u001b[0;34m.\u001b[0m\u001b[0mset_alpha\u001b[0m\u001b[0;34m(\u001b[0m\u001b[0malpha\u001b[0m\u001b[0;34m)\u001b[0m\u001b[0;34m\u001b[0m\u001b[0;34m\u001b[0m\u001b[0m\n\u001b[1;32m   5628\u001b[0m         \u001b[0;32mif\u001b[0m \u001b[0mim\u001b[0m\u001b[0;34m.\u001b[0m\u001b[0mget_clip_path\u001b[0m\u001b[0;34m(\u001b[0m\u001b[0;34m)\u001b[0m \u001b[0;32mis\u001b[0m \u001b[0;32mNone\u001b[0m\u001b[0;34m:\u001b[0m\u001b[0;34m\u001b[0m\u001b[0;34m\u001b[0m\u001b[0m\n",
            "\u001b[0;32m/usr/local/lib/python3.7/dist-packages/matplotlib/image.py\u001b[0m in \u001b[0;36mset_data\u001b[0;34m(self, A)\u001b[0m\n\u001b[1;32m    697\u001b[0m                 or self._A.ndim == 3 and self._A.shape[-1] in [3, 4]):\n\u001b[1;32m    698\u001b[0m             raise TypeError(\"Invalid shape {} for image data\"\n\u001b[0;32m--> 699\u001b[0;31m                             .format(self._A.shape))\n\u001b[0m\u001b[1;32m    700\u001b[0m \u001b[0;34m\u001b[0m\u001b[0m\n\u001b[1;32m    701\u001b[0m         \u001b[0;32mif\u001b[0m \u001b[0mself\u001b[0m\u001b[0;34m.\u001b[0m\u001b[0m_A\u001b[0m\u001b[0;34m.\u001b[0m\u001b[0mndim\u001b[0m \u001b[0;34m==\u001b[0m \u001b[0;36m3\u001b[0m\u001b[0;34m:\u001b[0m\u001b[0;34m\u001b[0m\u001b[0;34m\u001b[0m\u001b[0m\n",
            "\u001b[0;31mTypeError\u001b[0m: Invalid shape (64, 64, 1) for image data"
          ]
        },
        {
          "output_type": "display_data",
          "data": {
            "text/plain": [
              "<Figure size 720x864 with 6 Axes>"
            ],
            "image/png": "[encoded data removed]"
          },
          "metadata": {
            "needs_background": "light"
          }
        }
      ]
    },
    {
      "cell_type": "markdown",
      "source": [
        "### Training"
      ],
      "metadata": {
        "id": "H4VpR-yaJsjr"
      }
    },
    {
      "cell_type": "code",
      "source": [
        "EPOCHS = 100 # The paper has trained the model for 2000 epochs\n",
        "lr=2e-3\n",
        "\n",
        "max_var=.3\n",
        "\n",
        "opt = tf.keras.optimizers.Nadam(learning_rate=lr) # in the paper Adam optimizer with lr=2e-5 ,beta_1=.5 is used but I found this one converging faster\n",
        "train_loss=[]\n",
        "n_instances=train_generator.n\n",
        "numUpdates = int(n_instances / BS)\n",
        "# loop over the number of epochs\n",
        "for epoch in range(0, EPOCHS): \n",
        "    # show the current epoch number\n",
        "    print(\"[INFO] starting epoch {}/{} , learning_rate {}\".format(\n",
        "        epoch + 1, EPOCHS,lr), end=\"\")\n",
        "    sys.stdout.flush()\n",
        "    epochStart = time.time()\n",
        "    loss = 0\n",
        "    loss_batch = []\n",
        "    for i in tqdm(range(0, numUpdates)):\n",
        "        clean_data = next(train_generator)\n",
        "#         I Use Speckle Noise with Random Variance you can try a constant variance \n",
        "        noisy_data=random_noise(clean_data,mode='speckle',var=np.random.uniform(high=max_var))\n",
        "        loss = step(noisy_data,clean_data)\n",
        "        loss_batch.append((loss))\n",
        "    loss_batch = np.array(loss_batch)\n",
        "    loss_batch = np.sum(loss_batch, axis=0) / len(loss_batch)\n",
        "    total_loss,loss_euclidian,loss_tv=loss_batch\n",
        "    train_loss.append(loss_batch)\n",
        "    print('\\nTraining_loss # ', 'total loss: ', float(total_loss),\n",
        "          'loss_euclidian: ', float(loss_euclidian),\n",
        "          'loss_tv: ', float(loss_tv),)\n",
        "    if epoch % 5==0:\n",
        "        plt.plot(train_loss)\n",
        "        plt.legend(['Total loss','Euclidian loss','Total Variation loss'])\n",
        "        plt.show()\n",
        "        test_model(train_generator)\n",
        "    sys.stdout.flush()\n",
        "    # show timing information for the epoch\n",
        "    epochEnd = time.time()\n",
        "    elapsed = (epochEnd - epochStart) / 60.0\n",
        "    print(\"took {:.4} minutes\".format(elapsed))"
      ],
      "metadata": {
        "id": "RHEgismJJnFj"
      },
      "execution_count": null,
      "outputs": []
    }
  ]
}